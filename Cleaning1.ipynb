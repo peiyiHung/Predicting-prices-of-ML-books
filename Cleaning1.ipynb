{
 "cells": [
  {
   "cell_type": "code",
   "execution_count": 1,
   "metadata": {},
   "outputs": [],
   "source": [
    "import numpy as np \n",
    "import pandas as pd"
   ]
  },
  {
   "cell_type": "code",
   "execution_count": 2,
   "metadata": {},
   "outputs": [],
   "source": [
    "books = pd.read_csv(\"bookprice.csv\")"
   ]
  },
  {
   "cell_type": "code",
   "execution_count": 3,
   "metadata": {},
   "outputs": [
    {
     "name": "stdout",
     "output_type": "stream",
     "text": [
      "<class 'pandas.core.frame.DataFrame'>\n",
      "RangeIndex: 4058 entries, 0 to 4057\n",
      "Data columns (total 14 columns):\n",
      " #   Column                    Non-Null Count  Dtype  \n",
      "---  ------                    --------------  -----  \n",
      " 0   Name                      4058 non-null   object \n",
      " 1   Authors                   4014 non-null   object \n",
      " 2   Price                     2666 non-null   object \n",
      " 3   Image-url                 4058 non-null   object \n",
      " 4   Rating                    1253 non-null   float64\n",
      " 5   NumberOfPages             3918 non-null   object \n",
      " 6   Format                    4058 non-null   object \n",
      " 7   Publication date          4022 non-null   object \n",
      " 8   Publisher                 4055 non-null   object \n",
      " 9   Publication City/Country  2355 non-null   object \n",
      " 10  Dimensions                3832 non-null   object \n",
      " 11  Language                  3712 non-null   object \n",
      " 12  ISBN10                    3779 non-null   object \n",
      " 13  ISBN13                    4058 non-null   int64  \n",
      "dtypes: float64(1), int64(1), object(12)\n",
      "memory usage: 444.0+ KB\n"
     ]
    }
   ],
   "source": [
    "books.info()"
   ]
  },
  {
   "cell_type": "markdown",
   "metadata": {},
   "source": [
    "# Price"
   ]
  },
  {
   "cell_type": "code",
   "execution_count": 4,
   "metadata": {},
   "outputs": [
    {
     "data": {
      "text/plain": [
       "0       NT$2,009\n",
       "1       NT$2,357\n",
       "2       NT$3,038\n",
       "3       NT$2,418\n",
       "4       NT$1,040\n",
       "          ...   \n",
       "4053         NaN\n",
       "4054         NaN\n",
       "4055         NaN\n",
       "4056         NaN\n",
       "4057         NaN\n",
       "Name: Price, Length: 4058, dtype: object"
      ]
     },
     "execution_count": 4,
     "metadata": {},
     "output_type": "execute_result"
    }
   ],
   "source": [
    "books.Price"
   ]
  },
  {
   "cell_type": "code",
   "execution_count": 5,
   "metadata": {},
   "outputs": [],
   "source": [
    "books[\"Price\"] = books.Price.str.extract(r\"([0-9]+,*[0-9]+)\")"
   ]
  },
  {
   "cell_type": "code",
   "execution_count": 6,
   "metadata": {},
   "outputs": [],
   "source": [
    "books[\"Price\"] = books[\"Price\"].str.replace(\",\", \"\").astype(float)"
   ]
  },
  {
   "cell_type": "code",
   "execution_count": 7,
   "metadata": {},
   "outputs": [
    {
     "name": "stdout",
     "output_type": "stream",
     "text": [
      "<class 'pandas.core.frame.DataFrame'>\n",
      "RangeIndex: 4058 entries, 0 to 4057\n",
      "Data columns (total 14 columns):\n",
      " #   Column                    Non-Null Count  Dtype  \n",
      "---  ------                    --------------  -----  \n",
      " 0   Name                      4058 non-null   object \n",
      " 1   Authors                   4014 non-null   object \n",
      " 2   Price                     2666 non-null   float64\n",
      " 3   Image-url                 4058 non-null   object \n",
      " 4   Rating                    1253 non-null   float64\n",
      " 5   NumberOfPages             3918 non-null   object \n",
      " 6   Format                    4058 non-null   object \n",
      " 7   Publication date          4022 non-null   object \n",
      " 8   Publisher                 4055 non-null   object \n",
      " 9   Publication City/Country  2355 non-null   object \n",
      " 10  Dimensions                3832 non-null   object \n",
      " 11  Language                  3712 non-null   object \n",
      " 12  ISBN10                    3779 non-null   object \n",
      " 13  ISBN13                    4058 non-null   int64  \n",
      "dtypes: float64(2), int64(1), object(11)\n",
      "memory usage: 444.0+ KB\n"
     ]
    }
   ],
   "source": [
    "books.info()"
   ]
  },
  {
   "cell_type": "markdown",
   "metadata": {},
   "source": [
    "# Number of pages"
   ]
  },
  {
   "cell_type": "code",
   "execution_count": 8,
   "metadata": {},
   "outputs": [],
   "source": [
    "books[\"NumberOfPages\"] = books.NumberOfPages.str.extract(r\"([0-9]+)\").astype(float)"
   ]
  },
  {
   "cell_type": "code",
   "execution_count": 9,
   "metadata": {},
   "outputs": [
    {
     "name": "stdout",
     "output_type": "stream",
     "text": [
      "<class 'pandas.core.frame.DataFrame'>\n",
      "RangeIndex: 4058 entries, 0 to 4057\n",
      "Data columns (total 14 columns):\n",
      " #   Column                    Non-Null Count  Dtype  \n",
      "---  ------                    --------------  -----  \n",
      " 0   Name                      4058 non-null   object \n",
      " 1   Authors                   4014 non-null   object \n",
      " 2   Price                     2666 non-null   float64\n",
      " 3   Image-url                 4058 non-null   object \n",
      " 4   Rating                    1253 non-null   float64\n",
      " 5   NumberOfPages             3918 non-null   float64\n",
      " 6   Format                    4058 non-null   object \n",
      " 7   Publication date          4022 non-null   object \n",
      " 8   Publisher                 4055 non-null   object \n",
      " 9   Publication City/Country  2355 non-null   object \n",
      " 10  Dimensions                3832 non-null   object \n",
      " 11  Language                  3712 non-null   object \n",
      " 12  ISBN10                    3779 non-null   object \n",
      " 13  ISBN13                    4058 non-null   int64  \n",
      "dtypes: float64(3), int64(1), object(10)\n",
      "memory usage: 444.0+ KB\n"
     ]
    }
   ],
   "source": [
    "books.info()"
   ]
  },
  {
   "cell_type": "markdown",
   "metadata": {},
   "source": [
    "# Format"
   ]
  },
  {
   "cell_type": "code",
   "execution_count": 10,
   "metadata": {},
   "outputs": [
    {
     "data": {
      "text/plain": [
       "'\\n                                Hardback\\n                                    | 426 pages\\n\\n'"
      ]
     },
     "execution_count": 10,
     "metadata": {},
     "output_type": "execute_result"
    }
   ],
   "source": [
    "books.Format[0]"
   ]
  },
  {
   "cell_type": "code",
   "execution_count": 11,
   "metadata": {},
   "outputs": [],
   "source": [
    "def get_format(string):\n",
    "    if string is np.nan:\n",
    "        return None\n",
    "    string = string.split()\n",
    "    return string[0]"
   ]
  },
  {
   "cell_type": "code",
   "execution_count": 12,
   "metadata": {},
   "outputs": [],
   "source": [
    "books['Format'] = books.Format.apply(get_format)"
   ]
  },
  {
   "cell_type": "code",
   "execution_count": 13,
   "metadata": {},
   "outputs": [
    {
     "data": {
      "text/plain": [
       "array(['Hardback', 'Paperback'], dtype=object)"
      ]
     },
     "execution_count": 13,
     "metadata": {},
     "output_type": "execute_result"
    }
   ],
   "source": [
    "books.Format.unique()"
   ]
  },
  {
   "cell_type": "markdown",
   "metadata": {},
   "source": [
    "# Publication Date"
   ]
  },
  {
   "cell_type": "code",
   "execution_count": 14,
   "metadata": {},
   "outputs": [],
   "source": [
    "books[\"Publication date\"] = books['Publication date'].astype('datetime64')"
   ]
  },
  {
   "cell_type": "code",
   "execution_count": 15,
   "metadata": {},
   "outputs": [
    {
     "name": "stdout",
     "output_type": "stream",
     "text": [
      "<class 'pandas.core.frame.DataFrame'>\n",
      "RangeIndex: 4058 entries, 0 to 4057\n",
      "Data columns (total 14 columns):\n",
      " #   Column                    Non-Null Count  Dtype         \n",
      "---  ------                    --------------  -----         \n",
      " 0   Name                      4058 non-null   object        \n",
      " 1   Authors                   4014 non-null   object        \n",
      " 2   Price                     2666 non-null   float64       \n",
      " 3   Image-url                 4058 non-null   object        \n",
      " 4   Rating                    1253 non-null   float64       \n",
      " 5   NumberOfPages             3918 non-null   float64       \n",
      " 6   Format                    4058 non-null   object        \n",
      " 7   Publication date          4022 non-null   datetime64[ns]\n",
      " 8   Publisher                 4055 non-null   object        \n",
      " 9   Publication City/Country  2355 non-null   object        \n",
      " 10  Dimensions                3832 non-null   object        \n",
      " 11  Language                  3712 non-null   object        \n",
      " 12  ISBN10                    3779 non-null   object        \n",
      " 13  ISBN13                    4058 non-null   int64         \n",
      "dtypes: datetime64[ns](1), float64(3), int64(1), object(9)\n",
      "memory usage: 444.0+ KB\n"
     ]
    }
   ],
   "source": [
    "books.info()"
   ]
  },
  {
   "cell_type": "markdown",
   "metadata": {},
   "source": [
    "# Publisher"
   ]
  },
  {
   "cell_type": "code",
   "execution_count": 16,
   "metadata": {
    "scrolled": false
   },
   "outputs": [],
   "source": [
    "books[\"Publisher\"] = books[\"Publisher\"].str.strip()"
   ]
  },
  {
   "cell_type": "code",
   "execution_count": 17,
   "metadata": {},
   "outputs": [
    {
     "name": "stdout",
     "output_type": "stream",
     "text": [
      "<class 'pandas.core.frame.DataFrame'>\n",
      "RangeIndex: 4058 entries, 0 to 4057\n",
      "Data columns (total 14 columns):\n",
      " #   Column                    Non-Null Count  Dtype         \n",
      "---  ------                    --------------  -----         \n",
      " 0   Name                      4058 non-null   object        \n",
      " 1   Authors                   4014 non-null   object        \n",
      " 2   Price                     2666 non-null   float64       \n",
      " 3   Image-url                 4058 non-null   object        \n",
      " 4   Rating                    1253 non-null   float64       \n",
      " 5   NumberOfPages             3918 non-null   float64       \n",
      " 6   Format                    4058 non-null   object        \n",
      " 7   Publication date          4022 non-null   datetime64[ns]\n",
      " 8   Publisher                 4055 non-null   object        \n",
      " 9   Publication City/Country  2355 non-null   object        \n",
      " 10  Dimensions                3832 non-null   object        \n",
      " 11  Language                  3712 non-null   object        \n",
      " 12  ISBN10                    3779 non-null   object        \n",
      " 13  ISBN13                    4058 non-null   int64         \n",
      "dtypes: datetime64[ns](1), float64(3), int64(1), object(9)\n",
      "memory usage: 444.0+ KB\n"
     ]
    }
   ],
   "source": [
    "books.info()"
   ]
  },
  {
   "cell_type": "markdown",
   "metadata": {},
   "source": [
    "# Publication City/Country"
   ]
  },
  {
   "cell_type": "code",
   "execution_count": 18,
   "metadata": {},
   "outputs": [
    {
     "data": {
      "text/plain": [
       "0    \\n                                New York, NY...\n",
       "1    \\n                                New York, NY...\n",
       "2    \\n                                New York, NY...\n",
       "3    \\n                                Cambridge, U...\n",
       "4    \\n                                New York, Un...\n",
       "Name: Publication City/Country, dtype: object"
      ]
     },
     "execution_count": 18,
     "metadata": {},
     "output_type": "execute_result"
    }
   ],
   "source": [
    "books[\"Publication City/Country\"][:5]"
   ]
  },
  {
   "cell_type": "code",
   "execution_count": 19,
   "metadata": {},
   "outputs": [],
   "source": [
    "books[\"Publication City/Country\"] = books[\"Publication City/Country\"].str.strip()"
   ]
  },
  {
   "cell_type": "code",
   "execution_count": 20,
   "metadata": {},
   "outputs": [
    {
     "data": {
      "text/plain": [
       "array(['New York, NY, United States', 'Cambridge, United States',\n",
       "       'New York, United States', 'Cambridge, United Kingdom', nan,\n",
       "       'Cham, Switzerland', 'Bosa Roca, United States',\n",
       "       'Portland, United States', 'London, United Kingdom',\n",
       "       'OH, United States', 'United States', 'Washington, United States',\n",
       "       'San Diego, United States', 'New Jersey, United States',\n",
       "       'Singapore, Singapore', 'Boston, United States',\n",
       "       'Bristol, United Kingdom', 'San Francisco, United States',\n",
       "       'Hoboken, United States', 'Oxford, United Kingdom',\n",
       "       'Bingley, United Kingdom', 'Berlin, Germany',\n",
       "       'England, United Kingdom', 'Hershey, United States',\n",
       "       'Oakville, Canada', 'San Rafael, United States',\n",
       "       'Dordrecht, Netherlands', 'Stevenage, United Kingdom',\n",
       "       'Chicago, IL, United States', 'Maryland, United States'],\n",
       "      dtype=object)"
      ]
     },
     "execution_count": 20,
     "metadata": {},
     "output_type": "execute_result"
    }
   ],
   "source": [
    "books[\"Publication City/Country\"].unique()[:30]"
   ]
  },
  {
   "cell_type": "code",
   "execution_count": 21,
   "metadata": {},
   "outputs": [],
   "source": [
    "publication_cols = [\"Publication City\", \"Publication Country\"]\n",
    "books[publication_cols] = books[\"Publication City/Country\"].str.extract(r\"(.*), (.*)\")"
   ]
  },
  {
   "cell_type": "code",
   "execution_count": 22,
   "metadata": {},
   "outputs": [
    {
     "name": "stdout",
     "output_type": "stream",
     "text": [
      "<class 'pandas.core.frame.DataFrame'>\n",
      "RangeIndex: 4058 entries, 0 to 4057\n",
      "Data columns (total 16 columns):\n",
      " #   Column                    Non-Null Count  Dtype         \n",
      "---  ------                    --------------  -----         \n",
      " 0   Name                      4058 non-null   object        \n",
      " 1   Authors                   4014 non-null   object        \n",
      " 2   Price                     2666 non-null   float64       \n",
      " 3   Image-url                 4058 non-null   object        \n",
      " 4   Rating                    1253 non-null   float64       \n",
      " 5   NumberOfPages             3918 non-null   float64       \n",
      " 6   Format                    4058 non-null   object        \n",
      " 7   Publication date          4022 non-null   datetime64[ns]\n",
      " 8   Publisher                 4055 non-null   object        \n",
      " 9   Publication City/Country  2355 non-null   object        \n",
      " 10  Dimensions                3832 non-null   object        \n",
      " 11  Language                  3712 non-null   object        \n",
      " 12  ISBN10                    3779 non-null   object        \n",
      " 13  ISBN13                    4058 non-null   int64         \n",
      " 14  Publication City          1928 non-null   object        \n",
      " 15  Publication Country       1928 non-null   object        \n",
      "dtypes: datetime64[ns](1), float64(3), int64(1), object(11)\n",
      "memory usage: 507.4+ KB\n"
     ]
    }
   ],
   "source": [
    "books.info()"
   ]
  },
  {
   "cell_type": "code",
   "execution_count": 23,
   "metadata": {},
   "outputs": [],
   "source": [
    "books.drop(\"Publication City/Country\", axis=1, inplace=True)"
   ]
  },
  {
   "cell_type": "markdown",
   "metadata": {},
   "source": [
    "# Dimension"
   ]
  },
  {
   "cell_type": "code",
   "execution_count": 24,
   "metadata": {},
   "outputs": [
    {
     "data": {
      "text/plain": [
       "'\\n                                155\\n                                    x 235\\n                                    x 25.4mm\\n                                \\n                                    | 1,014g\\n                                '"
      ]
     },
     "execution_count": 24,
     "metadata": {},
     "output_type": "execute_result"
    }
   ],
   "source": [
    "books.Dimensions[0]"
   ]
  },
  {
   "cell_type": "markdown",
   "metadata": {},
   "source": [
    "**Remove newline and space**"
   ]
  },
  {
   "cell_type": "code",
   "execution_count": 25,
   "metadata": {},
   "outputs": [],
   "source": [
    "books[\"Dimensions\"] = books.Dimensions.str.replace(r'(\\n)( +)', \" \")"
   ]
  },
  {
   "cell_type": "markdown",
   "metadata": {},
   "source": [
    "**Width, Length, Height, and Weight**"
   ]
  },
  {
   "cell_type": "code",
   "execution_count": 26,
   "metadata": {},
   "outputs": [
    {
     "data": {
      "text/plain": [
       "0         155 x 235 x 25.4mm  | 1,014g \n",
       "1     155 x 235 x 35.56mm  | 1,179.34g \n",
       "Name: Dimensions, dtype: object"
      ]
     },
     "execution_count": 26,
     "metadata": {},
     "output_type": "execute_result"
    }
   ],
   "source": [
    "books.Dimensions[0:2]"
   ]
  },
  {
   "cell_type": "code",
   "execution_count": 27,
   "metadata": {},
   "outputs": [],
   "source": [
    "regex = r\"([0-9]+.*[0-9]*) x ([0-9]+) x ([0-9]+[\\.0-9]*)mm *\\| *(.*)g\"\n",
    "dim_cols = [\"Width\", \"Height\", \"Thickness\", \"Weight\"]\n",
    "books[dim_cols] = books.Dimensions.str.extract(regex)"
   ]
  },
  {
   "cell_type": "code",
   "execution_count": 28,
   "metadata": {},
   "outputs": [
    {
     "data": {
      "text/html": [
       "<div>\n",
       "<style scoped>\n",
       "    .dataframe tbody tr th:only-of-type {\n",
       "        vertical-align: middle;\n",
       "    }\n",
       "\n",
       "    .dataframe tbody tr th {\n",
       "        vertical-align: top;\n",
       "    }\n",
       "\n",
       "    .dataframe thead th {\n",
       "        text-align: right;\n",
       "    }\n",
       "</style>\n",
       "<table border=\"1\" class=\"dataframe\">\n",
       "  <thead>\n",
       "    <tr style=\"text-align: right;\">\n",
       "      <th></th>\n",
       "      <th>0</th>\n",
       "      <th>1</th>\n",
       "      <th>2</th>\n",
       "      <th>3</th>\n",
       "    </tr>\n",
       "  </thead>\n",
       "  <tbody>\n",
       "    <tr>\n",
       "      <th>0</th>\n",
       "      <td>155</td>\n",
       "      <td>235</td>\n",
       "      <td>25.4</td>\n",
       "      <td>1,014</td>\n",
       "    </tr>\n",
       "    <tr>\n",
       "      <th>1</th>\n",
       "      <td>155</td>\n",
       "      <td>235</td>\n",
       "      <td>35.56</td>\n",
       "      <td>1,179.34</td>\n",
       "    </tr>\n",
       "    <tr>\n",
       "      <th>2</th>\n",
       "      <td>178</td>\n",
       "      <td>254</td>\n",
       "      <td>34.29</td>\n",
       "      <td>2,147</td>\n",
       "    </tr>\n",
       "    <tr>\n",
       "      <th>3</th>\n",
       "      <td>178</td>\n",
       "      <td>229</td>\n",
       "      <td>32</td>\n",
       "      <td>1,270.06</td>\n",
       "    </tr>\n",
       "    <tr>\n",
       "      <th>4</th>\n",
       "      <td>155</td>\n",
       "      <td>238</td>\n",
       "      <td>25</td>\n",
       "      <td>726</td>\n",
       "    </tr>\n",
       "    <tr>\n",
       "      <th>...</th>\n",
       "      <td>...</td>\n",
       "      <td>...</td>\n",
       "      <td>...</td>\n",
       "      <td>...</td>\n",
       "    </tr>\n",
       "    <tr>\n",
       "      <th>4053</th>\n",
       "      <td>203</td>\n",
       "      <td>254</td>\n",
       "      <td>4</td>\n",
       "      <td>150</td>\n",
       "    </tr>\n",
       "    <tr>\n",
       "      <th>4054</th>\n",
       "      <td>203</td>\n",
       "      <td>254</td>\n",
       "      <td>11</td>\n",
       "      <td>336</td>\n",
       "    </tr>\n",
       "    <tr>\n",
       "      <th>4055</th>\n",
       "      <td>189</td>\n",
       "      <td>246</td>\n",
       "      <td>1</td>\n",
       "      <td>68</td>\n",
       "    </tr>\n",
       "    <tr>\n",
       "      <th>4056</th>\n",
       "      <td>NaN</td>\n",
       "      <td>NaN</td>\n",
       "      <td>NaN</td>\n",
       "      <td>NaN</td>\n",
       "    </tr>\n",
       "    <tr>\n",
       "      <th>4057</th>\n",
       "      <td>NaN</td>\n",
       "      <td>NaN</td>\n",
       "      <td>NaN</td>\n",
       "      <td>NaN</td>\n",
       "    </tr>\n",
       "  </tbody>\n",
       "</table>\n",
       "<p>4058 rows × 4 columns</p>\n",
       "</div>"
      ],
      "text/plain": [
       "        0    1      2         3\n",
       "0     155  235   25.4     1,014\n",
       "1     155  235  35.56  1,179.34\n",
       "2     178  254  34.29     2,147\n",
       "3     178  229     32  1,270.06\n",
       "4     155  238     25       726\n",
       "...   ...  ...    ...       ...\n",
       "4053  203  254      4       150\n",
       "4054  203  254     11       336\n",
       "4055  189  246      1        68\n",
       "4056  NaN  NaN    NaN       NaN\n",
       "4057  NaN  NaN    NaN       NaN\n",
       "\n",
       "[4058 rows x 4 columns]"
      ]
     },
     "execution_count": 28,
     "metadata": {},
     "output_type": "execute_result"
    }
   ],
   "source": [
    "books.Dimensions.str.extract(regex)"
   ]
  },
  {
   "cell_type": "code",
   "execution_count": 29,
   "metadata": {},
   "outputs": [],
   "source": [
    "books[\"Weight\"] = books[\"Weight\"].str.replace(\",\", \"\")\n",
    "books[dim_cols] = books[dim_cols].astype(float)"
   ]
  },
  {
   "cell_type": "code",
   "execution_count": 30,
   "metadata": {},
   "outputs": [
    {
     "data": {
      "text/html": [
       "<div>\n",
       "<style scoped>\n",
       "    .dataframe tbody tr th:only-of-type {\n",
       "        vertical-align: middle;\n",
       "    }\n",
       "\n",
       "    .dataframe tbody tr th {\n",
       "        vertical-align: top;\n",
       "    }\n",
       "\n",
       "    .dataframe thead th {\n",
       "        text-align: right;\n",
       "    }\n",
       "</style>\n",
       "<table border=\"1\" class=\"dataframe\">\n",
       "  <thead>\n",
       "    <tr style=\"text-align: right;\">\n",
       "      <th></th>\n",
       "      <th>Width</th>\n",
       "      <th>Height</th>\n",
       "      <th>Thickness</th>\n",
       "      <th>Weight</th>\n",
       "    </tr>\n",
       "  </thead>\n",
       "  <tbody>\n",
       "    <tr>\n",
       "      <th>0</th>\n",
       "      <td>155.0</td>\n",
       "      <td>235.0</td>\n",
       "      <td>25.40</td>\n",
       "      <td>1014.00</td>\n",
       "    </tr>\n",
       "    <tr>\n",
       "      <th>1</th>\n",
       "      <td>155.0</td>\n",
       "      <td>235.0</td>\n",
       "      <td>35.56</td>\n",
       "      <td>1179.34</td>\n",
       "    </tr>\n",
       "    <tr>\n",
       "      <th>2</th>\n",
       "      <td>178.0</td>\n",
       "      <td>254.0</td>\n",
       "      <td>34.29</td>\n",
       "      <td>2147.00</td>\n",
       "    </tr>\n",
       "    <tr>\n",
       "      <th>3</th>\n",
       "      <td>178.0</td>\n",
       "      <td>229.0</td>\n",
       "      <td>32.00</td>\n",
       "      <td>1270.06</td>\n",
       "    </tr>\n",
       "    <tr>\n",
       "      <th>4</th>\n",
       "      <td>155.0</td>\n",
       "      <td>238.0</td>\n",
       "      <td>25.00</td>\n",
       "      <td>726.00</td>\n",
       "    </tr>\n",
       "  </tbody>\n",
       "</table>\n",
       "</div>"
      ],
      "text/plain": [
       "   Width  Height  Thickness   Weight\n",
       "0  155.0   235.0      25.40  1014.00\n",
       "1  155.0   235.0      35.56  1179.34\n",
       "2  178.0   254.0      34.29  2147.00\n",
       "3  178.0   229.0      32.00  1270.06\n",
       "4  155.0   238.0      25.00   726.00"
      ]
     },
     "execution_count": 30,
     "metadata": {},
     "output_type": "execute_result"
    }
   ],
   "source": [
    "books[dim_cols].head()"
   ]
  },
  {
   "cell_type": "code",
   "execution_count": 31,
   "metadata": {},
   "outputs": [
    {
     "name": "stdout",
     "output_type": "stream",
     "text": [
      "<class 'pandas.core.frame.DataFrame'>\n",
      "RangeIndex: 4058 entries, 0 to 4057\n",
      "Data columns (total 19 columns):\n",
      " #   Column               Non-Null Count  Dtype         \n",
      "---  ------               --------------  -----         \n",
      " 0   Name                 4058 non-null   object        \n",
      " 1   Authors              4014 non-null   object        \n",
      " 2   Price                2666 non-null   float64       \n",
      " 3   Image-url            4058 non-null   object        \n",
      " 4   Rating               1253 non-null   float64       \n",
      " 5   NumberOfPages        3918 non-null   float64       \n",
      " 6   Format               4058 non-null   object        \n",
      " 7   Publication date     4022 non-null   datetime64[ns]\n",
      " 8   Publisher            4055 non-null   object        \n",
      " 9   Dimensions           3832 non-null   object        \n",
      " 10  Language             3712 non-null   object        \n",
      " 11  ISBN10               3779 non-null   object        \n",
      " 12  ISBN13               4058 non-null   int64         \n",
      " 13  Publication City     1928 non-null   object        \n",
      " 14  Publication Country  1928 non-null   object        \n",
      " 15  Width                3330 non-null   float64       \n",
      " 16  Height               3330 non-null   float64       \n",
      " 17  Thickness            3330 non-null   float64       \n",
      " 18  Weight               3330 non-null   float64       \n",
      "dtypes: datetime64[ns](1), float64(7), int64(1), object(10)\n",
      "memory usage: 602.5+ KB\n"
     ]
    }
   ],
   "source": [
    "books.info()"
   ]
  },
  {
   "cell_type": "code",
   "execution_count": 32,
   "metadata": {},
   "outputs": [],
   "source": [
    "books.drop(\"Dimensions\", axis=1, inplace=True)"
   ]
  },
  {
   "cell_type": "markdown",
   "metadata": {},
   "source": [
    "# Language"
   ]
  },
  {
   "cell_type": "code",
   "execution_count": 33,
   "metadata": {},
   "outputs": [
    {
     "data": {
      "text/plain": [
       "0       \\n                                English\n",
       "1       \\n                                English\n",
       "2       \\n                                English\n",
       "3       \\n                                English\n",
       "4       \\n                                English\n",
       "                          ...                    \n",
       "4053    \\n                                English\n",
       "4054    \\n                                English\n",
       "4055    \\n                                English\n",
       "4056                                          NaN\n",
       "4057                                          NaN\n",
       "Name: Language, Length: 4058, dtype: object"
      ]
     },
     "execution_count": 33,
     "metadata": {},
     "output_type": "execute_result"
    }
   ],
   "source": [
    "books.Language"
   ]
  },
  {
   "cell_type": "code",
   "execution_count": 34,
   "metadata": {},
   "outputs": [],
   "source": [
    "books[\"Language\"] = books.Language.str.strip()"
   ]
  },
  {
   "cell_type": "markdown",
   "metadata": {},
   "source": [
    "# Summary"
   ]
  },
  {
   "cell_type": "code",
   "execution_count": 35,
   "metadata": {
    "scrolled": false
   },
   "outputs": [
    {
     "data": {
      "text/html": [
       "<div>\n",
       "<style scoped>\n",
       "    .dataframe tbody tr th:only-of-type {\n",
       "        vertical-align: middle;\n",
       "    }\n",
       "\n",
       "    .dataframe tbody tr th {\n",
       "        vertical-align: top;\n",
       "    }\n",
       "\n",
       "    .dataframe thead th {\n",
       "        text-align: right;\n",
       "    }\n",
       "</style>\n",
       "<table border=\"1\" class=\"dataframe\">\n",
       "  <thead>\n",
       "    <tr style=\"text-align: right;\">\n",
       "      <th></th>\n",
       "      <th>Name</th>\n",
       "      <th>Authors</th>\n",
       "      <th>Price</th>\n",
       "      <th>Image-url</th>\n",
       "      <th>Rating</th>\n",
       "      <th>NumberOfPages</th>\n",
       "      <th>Format</th>\n",
       "      <th>Publication date</th>\n",
       "      <th>Publisher</th>\n",
       "      <th>Language</th>\n",
       "      <th>ISBN10</th>\n",
       "      <th>ISBN13</th>\n",
       "      <th>Publication City</th>\n",
       "      <th>Publication Country</th>\n",
       "      <th>Width</th>\n",
       "      <th>Height</th>\n",
       "      <th>Thickness</th>\n",
       "      <th>Weight</th>\n",
       "    </tr>\n",
       "  </thead>\n",
       "  <tbody>\n",
       "    <tr>\n",
       "      <th>0</th>\n",
       "      <td>An Introduction to Statistical Learning : with...</td>\n",
       "      <td>Gareth James, Daniela Witten, Trevor Hastie, R...</td>\n",
       "      <td>2009.0</td>\n",
       "      <td>https://d1w7fb2mkkr3kw.cloudfront.net/assets/i...</td>\n",
       "      <td>4.61</td>\n",
       "      <td>426.0</td>\n",
       "      <td>Hardback</td>\n",
       "      <td>2017-09-01</td>\n",
       "      <td>Springer-Verlag New York Inc.</td>\n",
       "      <td>English</td>\n",
       "      <td>1461471370</td>\n",
       "      <td>9781461471370</td>\n",
       "      <td>New York, NY</td>\n",
       "      <td>United States</td>\n",
       "      <td>155.0</td>\n",
       "      <td>235.0</td>\n",
       "      <td>25.40</td>\n",
       "      <td>1014.00</td>\n",
       "    </tr>\n",
       "    <tr>\n",
       "      <th>1</th>\n",
       "      <td>The Elements of Statistical Learning : Data Mi...</td>\n",
       "      <td>Trevor Hastie, Robert Tibshirani, Jerome Friedman</td>\n",
       "      <td>2357.0</td>\n",
       "      <td>https://d1w7fb2mkkr3kw.cloudfront.net/assets/i...</td>\n",
       "      <td>4.40</td>\n",
       "      <td>745.0</td>\n",
       "      <td>Hardback</td>\n",
       "      <td>2009-02-09</td>\n",
       "      <td>Springer-Verlag New York Inc.</td>\n",
       "      <td>English</td>\n",
       "      <td>0387848576</td>\n",
       "      <td>9780387848570</td>\n",
       "      <td>New York, NY</td>\n",
       "      <td>United States</td>\n",
       "      <td>155.0</td>\n",
       "      <td>235.0</td>\n",
       "      <td>35.56</td>\n",
       "      <td>1179.34</td>\n",
       "    </tr>\n",
       "    <tr>\n",
       "      <th>2</th>\n",
       "      <td>Pattern Recognition and Machine Learning</td>\n",
       "      <td>Christopher M. Bishop</td>\n",
       "      <td>3038.0</td>\n",
       "      <td>https://d1w7fb2mkkr3kw.cloudfront.net/assets/i...</td>\n",
       "      <td>4.30</td>\n",
       "      <td>738.0</td>\n",
       "      <td>Hardback</td>\n",
       "      <td>2011-04-06</td>\n",
       "      <td>Springer-Verlag New York Inc.</td>\n",
       "      <td>English</td>\n",
       "      <td>0387310738</td>\n",
       "      <td>9780387310732</td>\n",
       "      <td>New York, NY</td>\n",
       "      <td>United States</td>\n",
       "      <td>178.0</td>\n",
       "      <td>254.0</td>\n",
       "      <td>34.29</td>\n",
       "      <td>2147.00</td>\n",
       "    </tr>\n",
       "    <tr>\n",
       "      <th>3</th>\n",
       "      <td>Deep Learning</td>\n",
       "      <td>Ian Goodfellow, Yoshua Bengio, Aaron Courville</td>\n",
       "      <td>2418.0</td>\n",
       "      <td>https://d1w7fb2mkkr3kw.cloudfront.net/assets/i...</td>\n",
       "      <td>4.44</td>\n",
       "      <td>800.0</td>\n",
       "      <td>Hardback</td>\n",
       "      <td>2017-04-18</td>\n",
       "      <td>MIT Press Ltd</td>\n",
       "      <td>English</td>\n",
       "      <td>0262035618</td>\n",
       "      <td>9780262035613</td>\n",
       "      <td>Cambridge</td>\n",
       "      <td>United States</td>\n",
       "      <td>178.0</td>\n",
       "      <td>229.0</td>\n",
       "      <td>32.00</td>\n",
       "      <td>1270.06</td>\n",
       "    </tr>\n",
       "    <tr>\n",
       "      <th>4</th>\n",
       "      <td>Advances in Financial Machine Learning</td>\n",
       "      <td>Marcos Lopez de Prado</td>\n",
       "      <td>1040.0</td>\n",
       "      <td>https://d1w7fb2mkkr3kw.cloudfront.net/assets/i...</td>\n",
       "      <td>4.21</td>\n",
       "      <td>400.0</td>\n",
       "      <td>Hardback</td>\n",
       "      <td>2018-02-21</td>\n",
       "      <td>John Wiley &amp; Sons Inc</td>\n",
       "      <td>English</td>\n",
       "      <td>1119482089</td>\n",
       "      <td>9781119482086</td>\n",
       "      <td>New York</td>\n",
       "      <td>United States</td>\n",
       "      <td>155.0</td>\n",
       "      <td>238.0</td>\n",
       "      <td>25.00</td>\n",
       "      <td>726.00</td>\n",
       "    </tr>\n",
       "  </tbody>\n",
       "</table>\n",
       "</div>"
      ],
      "text/plain": [
       "                                                Name  \\\n",
       "0  An Introduction to Statistical Learning : with...   \n",
       "1  The Elements of Statistical Learning : Data Mi...   \n",
       "2           Pattern Recognition and Machine Learning   \n",
       "3                                      Deep Learning   \n",
       "4             Advances in Financial Machine Learning   \n",
       "\n",
       "                                             Authors   Price  \\\n",
       "0  Gareth James, Daniela Witten, Trevor Hastie, R...  2009.0   \n",
       "1  Trevor Hastie, Robert Tibshirani, Jerome Friedman  2357.0   \n",
       "2                              Christopher M. Bishop  3038.0   \n",
       "3     Ian Goodfellow, Yoshua Bengio, Aaron Courville  2418.0   \n",
       "4                              Marcos Lopez de Prado  1040.0   \n",
       "\n",
       "                                           Image-url  Rating  NumberOfPages  \\\n",
       "0  https://d1w7fb2mkkr3kw.cloudfront.net/assets/i...    4.61          426.0   \n",
       "1  https://d1w7fb2mkkr3kw.cloudfront.net/assets/i...    4.40          745.0   \n",
       "2  https://d1w7fb2mkkr3kw.cloudfront.net/assets/i...    4.30          738.0   \n",
       "3  https://d1w7fb2mkkr3kw.cloudfront.net/assets/i...    4.44          800.0   \n",
       "4  https://d1w7fb2mkkr3kw.cloudfront.net/assets/i...    4.21          400.0   \n",
       "\n",
       "     Format Publication date                      Publisher Language  \\\n",
       "0  Hardback       2017-09-01  Springer-Verlag New York Inc.  English   \n",
       "1  Hardback       2009-02-09  Springer-Verlag New York Inc.  English   \n",
       "2  Hardback       2011-04-06  Springer-Verlag New York Inc.  English   \n",
       "3  Hardback       2017-04-18                  MIT Press Ltd  English   \n",
       "4  Hardback       2018-02-21          John Wiley & Sons Inc  English   \n",
       "\n",
       "       ISBN10         ISBN13 Publication City Publication Country  Width  \\\n",
       "0  1461471370  9781461471370     New York, NY       United States  155.0   \n",
       "1  0387848576  9780387848570     New York, NY       United States  155.0   \n",
       "2  0387310738  9780387310732     New York, NY       United States  178.0   \n",
       "3  0262035618  9780262035613        Cambridge       United States  178.0   \n",
       "4  1119482089  9781119482086         New York       United States  155.0   \n",
       "\n",
       "   Height  Thickness   Weight  \n",
       "0   235.0      25.40  1014.00  \n",
       "1   235.0      35.56  1179.34  \n",
       "2   254.0      34.29  2147.00  \n",
       "3   229.0      32.00  1270.06  \n",
       "4   238.0      25.00   726.00  "
      ]
     },
     "execution_count": 35,
     "metadata": {},
     "output_type": "execute_result"
    }
   ],
   "source": [
    "books.head()"
   ]
  },
  {
   "cell_type": "code",
   "execution_count": 36,
   "metadata": {},
   "outputs": [
    {
     "name": "stdout",
     "output_type": "stream",
     "text": [
      "<class 'pandas.core.frame.DataFrame'>\n",
      "RangeIndex: 4058 entries, 0 to 4057\n",
      "Data columns (total 18 columns):\n",
      " #   Column               Non-Null Count  Dtype         \n",
      "---  ------               --------------  -----         \n",
      " 0   Name                 4058 non-null   object        \n",
      " 1   Authors              4014 non-null   object        \n",
      " 2   Price                2666 non-null   float64       \n",
      " 3   Image-url            4058 non-null   object        \n",
      " 4   Rating               1253 non-null   float64       \n",
      " 5   NumberOfPages        3918 non-null   float64       \n",
      " 6   Format               4058 non-null   object        \n",
      " 7   Publication date     4022 non-null   datetime64[ns]\n",
      " 8   Publisher            4055 non-null   object        \n",
      " 9   Language             3712 non-null   object        \n",
      " 10  ISBN10               3779 non-null   object        \n",
      " 11  ISBN13               4058 non-null   int64         \n",
      " 12  Publication City     1928 non-null   object        \n",
      " 13  Publication Country  1928 non-null   object        \n",
      " 14  Width                3330 non-null   float64       \n",
      " 15  Height               3330 non-null   float64       \n",
      " 16  Thickness            3330 non-null   float64       \n",
      " 17  Weight               3330 non-null   float64       \n",
      "dtypes: datetime64[ns](1), float64(7), int64(1), object(9)\n",
      "memory usage: 570.8+ KB\n"
     ]
    }
   ],
   "source": [
    "books.info()"
   ]
  },
  {
   "cell_type": "code",
   "execution_count": 38,
   "metadata": {},
   "outputs": [],
   "source": [
    "#books.to_csv(\"bookprice_cleaned.csv\", index=False)"
   ]
  },
  {
   "cell_type": "code",
   "execution_count": null,
   "metadata": {},
   "outputs": [],
   "source": []
  }
 ],
 "metadata": {
  "kernelspec": {
   "display_name": "Python 3",
   "language": "python",
   "name": "python3"
  },
  "language_info": {
   "codemirror_mode": {
    "name": "ipython",
    "version": 3
   },
   "file_extension": ".py",
   "mimetype": "text/x-python",
   "name": "python",
   "nbconvert_exporter": "python",
   "pygments_lexer": "ipython3",
   "version": "3.8.5"
  }
 },
 "nbformat": 4,
 "nbformat_minor": 4
}
